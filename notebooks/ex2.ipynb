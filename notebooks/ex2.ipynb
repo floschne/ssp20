{
 "cells": [
  {
   "cell_type": "code",
   "execution_count": 21,
   "metadata": {},
   "outputs": [],
   "source": [
    "import numpy as np\n",
    "import matplotlib.pyplot as plt\n",
    "import librosa as rosa\n",
    "import sounddevice as sd\n",
    "\n",
    "import os\n",
    "import sys\n",
    "\n",
    "sys.path.append(\"..\")\n",
    "from src import AudioData\n",
    "from src import audio_utils as utils"
   ]
  },
  {
   "cell_type": "code",
   "execution_count": 16,
   "metadata": {},
   "outputs": [
    {
     "name": "stdout",
     "output_type": "stream",
     "text": [
      "Successfully loaded audio data from file: /home/p0w3r/gitrepos/ssp20/Exercise2/AudioFiles/speech1.wav\n",
      "Successfully loaded audio data from file: /home/p0w3r/gitrepos/ssp20/Exercise2/AudioFiles/phone.wav\n"
     ]
    }
   ],
   "source": [
    "speech = AudioData(os.path.join(os.getcwd(), 'AudioFiles', 'speech1.wav'))\n",
    "phone = AudioData(os.path.join(os.getcwd(), 'AudioFiles', 'phone.wav'))"
   ]
  },
  {
   "cell_type": "code",
   "execution_count": 17,
   "metadata": {},
   "outputs": [],
   "source": [
    "def compute_stft(data: AudioData,\n",
    "                 frame_length_ms: int,\n",
    "                 frame_shift_ms: int,\n",
    "                 analysis_window: np.ndarray) -> [np.ndarray, np.ndarray, np.ndarray]:\n",
    "    \n",
    "    assert len(analysis_window) == fr"
   ]
  },
  {
   "cell_type": "code",
   "execution_count": 19,
   "metadata": {},
   "outputs": [
    {
     "ename": "AttributeError",
     "evalue": "type object 'AudioData' has no attribute 'AudioData'",
     "output_type": "error",
     "traceback": [
      "\u001b[0;31m---------------------------------------------------------------------------\u001b[0m",
      "\u001b[0;31mAttributeError\u001b[0m                            Traceback (most recent call last)",
      "\u001b[0;32m<ipython-input-19-ab0f1593bfbb>\u001b[0m in \u001b[0;36m<module>\u001b[0;34m\u001b[0m\n\u001b[0;32m----> 1\u001b[0;31m \u001b[0mAudioData\u001b[0m\u001b[0;34m.\u001b[0m\u001b[0mAudioData\u001b[0m\u001b[0;34m.\u001b[0m\u001b[0makk\u001b[0m\u001b[0;34m(\u001b[0m\u001b[0;34m)\u001b[0m\u001b[0;34m\u001b[0m\u001b[0;34m\u001b[0m\u001b[0m\n\u001b[0m",
      "\u001b[0;31mAttributeError\u001b[0m: type object 'AudioData' has no attribute 'AudioData'"
     ]
    }
   ],
   "source": [
    "AudioData.AudioData.akk()"
   ]
  },
  {
   "cell_type": "code",
   "execution_count": null,
   "metadata": {},
   "outputs": [],
   "source": [
    "utils.hz_to_ms()"
   ]
  }
 ],
 "metadata": {
  "kernelspec": {
   "display_name": "Python 3",
   "language": "python",
   "name": "python3"
  },
  "language_info": {
   "codemirror_mode": {
    "name": "ipython",
    "version": 3
   },
   "file_extension": ".py",
   "mimetype": "text/x-python",
   "name": "python",
   "nbconvert_exporter": "python",
   "pygments_lexer": "ipython3",
   "version": "3.6.9"
  }
 },
 "nbformat": 4,
 "nbformat_minor": 2
}
